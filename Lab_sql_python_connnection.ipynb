{
 "cells": [
  {
   "cell_type": "code",
   "execution_count": null,
   "id": "71cb6966-1d2c-4d80-9e1a-3802a63e612e",
   "metadata": {},
   "outputs": [],
   "source": [
    "!pip install sqlalchemy"
   ]
  },
  {
   "cell_type": "code",
   "execution_count": null,
   "id": "1d397ada-57d6-4490-a62f-e435d3347037",
   "metadata": {},
   "outputs": [],
   "source": [
    "!pip install pymysql"
   ]
  },
  {
   "cell_type": "code",
   "execution_count": null,
   "id": "dcdf796f-4c02-4b31-aa03-91ce7b495d5d",
   "metadata": {},
   "outputs": [],
   "source": [
    "pip show sqlalchemy | grep Version"
   ]
  },
  {
   "cell_type": "code",
   "execution_count": null,
   "id": "7c248f2a-1de7-4fec-b2a2-ea0db75ec52e",
   "metadata": {},
   "outputs": [],
   "source": [
    "import numpy as np\n",
    "import pymysql\n",
    "from sqlalchemy import create_engine\n",
    "import pandas as pd\n",
    "from configparser import RawConfigParser\n",
    "\n",
    "parser = RawConfigParser()\n",
    "_ = parser.read('nb.cfg')\n",
    "engine = create_engine(parser.get('sakila', 'conn_string'))"
   ]
  },
  {
   "cell_type": "code",
   "execution_count": null,
   "id": "b50efd24-237d-4904-947b-e539f9376d90",
   "metadata": {},
   "outputs": [],
   "source": [
    "def rentals_month(engine, month, year):\n",
    "    query = f\"\"\"\n",
    "SELECT *\n",
    "FROM rental\n",
    "WHERE YEAR(rental_date) = {year}\n",
    "  AND MONTH(rental_date) = {month};\n",
    "\"\"\"\n",
    "    df = pd.read_sql_query(query, engine)\n",
    "    return df\n",
    "may = rentals_month(engine, 5, 2005)\n",
    "june = rentals_month(engine, 6, 2005)"
   ]
  },
  {
   "cell_type": "code",
   "execution_count": null,
   "id": "6cb5044b-bb65-4455-983b-33dfd785ebe1",
   "metadata": {},
   "outputs": [],
   "source": [
    "def rental_count_month(df, month, year):\n",
    "    column_name = f\"rentals_{month}_{year}\"\n",
    "    result = df.groupby('customer_id').size().reset_index(name=column_name)\n",
    "    return result\n",
    "count_may = rental_count_month(may, 5, 2005)\n",
    "count_june = rental_count_month(june, 6, 2005)"
   ]
  },
  {
   "cell_type": "code",
   "execution_count": 90,
   "id": "910d66ec-c3a2-42f2-8982-fce78256561e",
   "metadata": {},
   "outputs": [
    {
     "data": {
      "text/html": [
       "<div>\n",
       "<style scoped>\n",
       "    .dataframe tbody tr th:only-of-type {\n",
       "        vertical-align: middle;\n",
       "    }\n",
       "\n",
       "    .dataframe tbody tr th {\n",
       "        vertical-align: top;\n",
       "    }\n",
       "\n",
       "    .dataframe thead th {\n",
       "        text-align: right;\n",
       "    }\n",
       "</style>\n",
       "<table border=\"1\" class=\"dataframe\">\n",
       "  <thead>\n",
       "    <tr style=\"text-align: right;\">\n",
       "      <th></th>\n",
       "      <th>customer_id</th>\n",
       "      <th>rentals_5_2005</th>\n",
       "      <th>rentals_6_2005</th>\n",
       "      <th>difference</th>\n",
       "    </tr>\n",
       "  </thead>\n",
       "  <tbody>\n",
       "    <tr>\n",
       "      <th>0</th>\n",
       "      <td>1</td>\n",
       "      <td>2</td>\n",
       "      <td>7</td>\n",
       "      <td>5</td>\n",
       "    </tr>\n",
       "    <tr>\n",
       "      <th>1</th>\n",
       "      <td>2</td>\n",
       "      <td>1</td>\n",
       "      <td>1</td>\n",
       "      <td>0</td>\n",
       "    </tr>\n",
       "    <tr>\n",
       "      <th>2</th>\n",
       "      <td>3</td>\n",
       "      <td>2</td>\n",
       "      <td>4</td>\n",
       "      <td>2</td>\n",
       "    </tr>\n",
       "    <tr>\n",
       "      <th>3</th>\n",
       "      <td>5</td>\n",
       "      <td>3</td>\n",
       "      <td>5</td>\n",
       "      <td>2</td>\n",
       "    </tr>\n",
       "    <tr>\n",
       "      <th>4</th>\n",
       "      <td>6</td>\n",
       "      <td>3</td>\n",
       "      <td>4</td>\n",
       "      <td>1</td>\n",
       "    </tr>\n",
       "    <tr>\n",
       "      <th>...</th>\n",
       "      <td>...</td>\n",
       "      <td>...</td>\n",
       "      <td>...</td>\n",
       "      <td>...</td>\n",
       "    </tr>\n",
       "    <tr>\n",
       "      <th>507</th>\n",
       "      <td>594</td>\n",
       "      <td>4</td>\n",
       "      <td>6</td>\n",
       "      <td>2</td>\n",
       "    </tr>\n",
       "    <tr>\n",
       "      <th>508</th>\n",
       "      <td>595</td>\n",
       "      <td>1</td>\n",
       "      <td>2</td>\n",
       "      <td>1</td>\n",
       "    </tr>\n",
       "    <tr>\n",
       "      <th>509</th>\n",
       "      <td>596</td>\n",
       "      <td>6</td>\n",
       "      <td>2</td>\n",
       "      <td>4</td>\n",
       "    </tr>\n",
       "    <tr>\n",
       "      <th>510</th>\n",
       "      <td>597</td>\n",
       "      <td>2</td>\n",
       "      <td>3</td>\n",
       "      <td>1</td>\n",
       "    </tr>\n",
       "    <tr>\n",
       "      <th>511</th>\n",
       "      <td>599</td>\n",
       "      <td>1</td>\n",
       "      <td>4</td>\n",
       "      <td>3</td>\n",
       "    </tr>\n",
       "  </tbody>\n",
       "</table>\n",
       "<p>512 rows × 4 columns</p>\n",
       "</div>"
      ],
      "text/plain": [
       "     customer_id  rentals_5_2005  rentals_6_2005  difference\n",
       "0              1               2               7           5\n",
       "1              2               1               1           0\n",
       "2              3               2               4           2\n",
       "3              5               3               5           2\n",
       "4              6               3               4           1\n",
       "..           ...             ...             ...         ...\n",
       "507          594               4               6           2\n",
       "508          595               1               2           1\n",
       "509          596               6               2           4\n",
       "510          597               2               3           1\n",
       "511          599               1               4           3\n",
       "\n",
       "[512 rows x 4 columns]"
      ]
     },
     "execution_count": 90,
     "metadata": {},
     "output_type": "execute_result"
    }
   ],
   "source": [
    "def compare_rentals(df1, df2):\n",
    "    month1_col = df1.columns[1] \n",
    "    month2_col = df2.columns[1]  \n",
    "    df_combined = pd.merge(df1, df2, on='customer_id')\n",
    "    df_combined['difference'] = abs(df_combined[month2_col] - df_combined[month1_col])\n",
    "    return df_combined\n",
    "compare_rentals(count_may, count_june)"
   ]
  },
  {
   "cell_type": "code",
   "execution_count": null,
   "id": "83de511f-dc32-44c2-b9ad-36bfaa1c54a4",
   "metadata": {},
   "outputs": [],
   "source": []
  },
  {
   "cell_type": "code",
   "execution_count": null,
   "id": "025b47d2-9fa9-495c-870b-1f29a0178fdd",
   "metadata": {},
   "outputs": [],
   "source": []
  }
 ],
 "metadata": {
  "kernelspec": {
   "display_name": "Python 3 (ipykernel)",
   "language": "python",
   "name": "python3"
  },
  "language_info": {
   "codemirror_mode": {
    "name": "ipython",
    "version": 3
   },
   "file_extension": ".py",
   "mimetype": "text/x-python",
   "name": "python",
   "nbconvert_exporter": "python",
   "pygments_lexer": "ipython3",
   "version": "3.12.4"
  }
 },
 "nbformat": 4,
 "nbformat_minor": 5
}
